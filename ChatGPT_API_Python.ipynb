{
  "nbformat": 4,
  "nbformat_minor": 0,
  "metadata": {
    "colab": {
      "provenance": [],
      "authorship_tag": "ABX9TyNtE5xHLXvqX/hYInUlXCry",
      "include_colab_link": true
    },
    "kernelspec": {
      "name": "python3",
      "display_name": "Python 3"
    },
    "language_info": {
      "name": "python"
    }
  },
  "cells": [
    {
      "cell_type": "markdown",
      "metadata": {
        "id": "view-in-github",
        "colab_type": "text"
      },
      "source": [
        "<a href=\"https://colab.research.google.com/github/GeorgeTelles/CHATGPT_API_Python.py/blob/main/ChatGPT_API_Python.ipynb\" target=\"_parent\"><img src=\"https://colab.research.google.com/assets/colab-badge.svg\" alt=\"Open In Colab\"/></a>"
      ]
    },
    {
      "cell_type": "markdown",
      "source": [
        "<div>\n",
        "  <img src=\"https://raw.githubusercontent.com/GeorgeTelles/georgetelles/f69531ec6b293b5148563588a764c010015d315e/logo_clara.png\" alt=\"logo clara\" width=\"300\" style=\"display: inline-block; vertical-align: top; margin-right: 10px;\">\n",
        "  <img src=\"https://raw.githubusercontent.com/GeorgeTelles/georgetelles/f69531ec6b293b5148563588a764c010015d315e/logo_dark.png\" alt=\"logo dark\" width=\"300\" style=\"display: inline-block; vertical-align: top;\">\n",
        "</div>"
      ],
      "metadata": {
        "id": "dv3HglKjZ7vL"
      }
    },
    {
      "cell_type": "markdown",
      "source": [
        "# ChatGPT API Integration in Python\n",
        "\n",
        "This project demonstrates how to integrate the OpenAI API with Python to create an interactive chatbot using the \"gpt-4o-mini\" model. The code allows users to ask questions to ChatGPT in a continuous loop, receiving responses directly in the terminal. The project includes:\n",
        "\n",
        "- **API Installation and Configuration**: Steps to install the `openai` library and set up the API key.\n",
        "- **Custom Response Function**: A Python function to send messages to the model and receive responses, along with the interaction cost (token usage).\n",
        "- **Command Line Interface**: A simple interface where users can interact with ChatGPT by typing questions into the terminal.\n",
        "\n",
        "This project is ideal for those who want to understand how to integrate OpenAI's language models into Python projects and explore API usage for chatbots.\n"
      ],
      "metadata": {
        "id": "6chE48EqeF3U"
      }
    },
    {
      "cell_type": "markdown",
      "source": [
        "# Instalando a biblioteca da OpenAI"
      ],
      "metadata": {
        "id": "52FcdhepdUbE"
      }
    },
    {
      "cell_type": "code",
      "source": [
        "!pip install openai"
      ],
      "metadata": {
        "id": "W_J5CbDzaPeL"
      },
      "execution_count": null,
      "outputs": []
    },
    {
      "cell_type": "markdown",
      "source": [
        "#Importando Biblioteca"
      ],
      "metadata": {
        "id": "lARFaTLGdWQ0"
      }
    },
    {
      "cell_type": "code",
      "source": [
        "from openai import OpenAI"
      ],
      "metadata": {
        "id": "1SqsbEftaGZk"
      },
      "execution_count": null,
      "outputs": []
    },
    {
      "cell_type": "markdown",
      "source": [
        "# Initialize the API key"
      ],
      "metadata": {
        "id": "pcDdPVKxda1b"
      }
    },
    {
      "cell_type": "code",
      "source": [
        "\n",
        "api_key = \"xyz\""
      ],
      "metadata": {
        "id": "LnOK3tKQaIOt"
      },
      "execution_count": null,
      "outputs": []
    },
    {
      "cell_type": "markdown",
      "source": [
        "#Definindo função de resposta"
      ],
      "metadata": {
        "id": "d-kod_yedkjj"
      }
    },
    {
      "cell_type": "code",
      "source": [
        "def gerar_resposta(messages):\n",
        "    client = OpenAI(api_key=api_key)\n",
        "    response = client.chat.completions.create(\n",
        "        model=\"gpt-4o-mini\",\n",
        "        messages=messages,\n",
        "        max_tokens=1024,\n",
        "        temperature=0.5\n",
        "    )\n",
        "    return [response.choices[0].message['content'], response['usage']]\n",
        "\n",
        "# Inicial Config\n",
        "mensagens = [{\"role\": \"system\", \"content\": \"Você é um assistente gente boa.\"}]"
      ],
      "metadata": {
        "id": "5bEVvKfQbkM3"
      },
      "execution_count": null,
      "outputs": []
    },
    {
      "cell_type": "markdown",
      "source": [
        "#Inicializando o Chat GPT via Python"
      ],
      "metadata": {
        "id": "i782vDsEdmrr"
      }
    },
    {
      "cell_type": "code",
      "execution_count": null,
      "metadata": {
        "id": "dEjnaDq7Z67a"
      },
      "outputs": [],
      "source": [
        "while True:\n",
        "    # Ask a question\n",
        "    question = input(\"Perguntar pro ChatGPT (\\\"sair\\\"): \")\n",
        "\n",
        "    if question == \"sair\" or question == \"\":\n",
        "        print(\"saindo\")\n",
        "        break\n",
        "    else:\n",
        "        mensagens.append({\"role\": \"user\", \"content\": str(question)})\n",
        "\n",
        "        answer = gerar_resposta(mensagens)\n",
        "        print(\"Nóis:\", question)\n",
        "        print(\"ChatGPT:\", answer[0], \"\\nCusto:\\n\", answer[1])\n",
        "        mensagens.append({\"role\": \"assistant\", \"content\": answer[0]})\n",
        "\n",
        "    debugar = False\n",
        "    if debugar:\n",
        "        print(\"Mensagens\", mensagens, type(mensagens))"
      ]
    }
  ]
}